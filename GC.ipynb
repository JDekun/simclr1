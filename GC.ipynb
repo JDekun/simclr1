{
  "cells": [
    {
      "cell_type": "markdown",
      "metadata": {
        "id": "view-in-github",
        "colab_type": "text"
      },
      "source": [
        "<a href=\"https://colab.research.google.com/github/JDekun/simclr1/blob/master/GC.ipynb\" target=\"_parent\"><img src=\"https://colab.research.google.com/assets/colab-badge.svg\" alt=\"Open In Colab\"/></a>"
      ]
    },
    {
      "cell_type": "code",
      "execution_count": 1,
      "metadata": {
        "colab": {
          "base_uri": "https://localhost:8080/"
        },
        "id": "wvYRyZ27v4NX",
        "outputId": "54043bf4-cab4-4b3a-bbf1-0583843b08fb",
        "cellView": "form"
      },
      "outputs": [
        {
          "output_type": "stream",
          "name": "stdout",
          "text": [
            "Cloning into 'Kaggle'...\n",
            "remote: Enumerating objects: 17, done.\u001b[K\n",
            "remote: Counting objects: 100% (17/17), done.\u001b[K\n",
            "remote: Compressing objects: 100% (13/13), done.\u001b[K\n",
            "remote: Total 17 (delta 0), reused 0 (delta 0), pack-reused 0\u001b[K\n",
            "Unpacking objects: 100% (17/17), done.\n",
            "Warning: Your Kaggle API key is readable by other users on this system! To fix this, you can run 'chmod 600 /content/Kaggle/kaggle.json'\n",
            "Downloading cifar-10-batches-py.zip to cifar-10-batches-py\n",
            " 95% 154M/162M [00:01<00:00, 90.4MB/s]\n",
            "100% 162M/162M [00:01<00:00, 107MB/s] \n",
            "Cloning into 'simclr1'...\n",
            "remote: Enumerating objects: 16, done.\u001b[K\n",
            "remote: Counting objects: 100% (16/16), done.\u001b[K\n",
            "remote: Compressing objects: 100% (13/13), done.\u001b[K\n",
            "remote: Total 16 (delta 2), reused 16 (delta 2), pack-reused 0\u001b[K\n",
            "Unpacking objects: 100% (16/16), done.\n",
            "/content/working\n"
          ]
        }
      ],
      "source": [
        "#@title 请输入数据集名称\n",
        "\n",
        "# 导入Kaggle API\n",
        "!git clone https://github.com/JDekun/Kaggle.git\n",
        "import os\n",
        "os.environ['KAGGLE_CONFIG_DIR'] = '/content/Kaggle' #注意kaggle文件夹包含json文件 \n",
        "\n",
        "!mkdir /content/input\n",
        "os.chdir('/content/input')\n",
        "\n",
        "# 数据集名字\n",
        "datasets = [\"janzenliu/cifar-10-batches-py\"]  #@param {type:\"raw\"}\n",
        "len_mydekun = len(datasets)\n",
        "\n",
        "if len_mydekun != 0:\n",
        "  for i in range(len_mydekun):\n",
        "    # 下载数据集\n",
        "    temp = datasets[i]\n",
        "    name, dataset = temp.split('/')\n",
        "    \n",
        "    zip = dataset + '.zip'\n",
        "    !kaggle datasets download -d $temp -p $dataset\n",
        "\n",
        "    # 解压数据集并删除压缩包\n",
        "    !unzip $dataset/$zip -d $dataset > /dev/null 2>&1\n",
        "    !rm -f $dataset/$zip\n",
        "\n",
        "# 设置运行时的根目录\n",
        "!mkdir /content/working\n",
        "os.chdir('/content/working')\n",
        "\n",
        "# GitHub名字\n",
        "github = [\"https://github.com/JDekun/simclr1.git\" ]  #@param {type:\"raw\"}\n",
        "len_github = len(github)\n",
        "if len_github != 0:\n",
        "  for i in range(len_github):\n",
        "    temp = github[i]\n",
        "    !git clone $temp\n",
        "\n",
        "!pwd"
      ]
    },
    {
      "cell_type": "code",
      "execution_count": 2,
      "metadata": {
        "id": "KdeadOduWnjJ",
        "colab": {
          "base_uri": "https://localhost:8080/"
        },
        "outputId": "0da8820d-e2c5-41ea-e768-cd09c86ef044"
      },
      "outputs": [
        {
          "output_type": "stream",
          "name": "stdout",
          "text": [
            "Looking in indexes: https://pypi.org/simple, https://us-python.pkg.dev/colab-wheels/public/simple/\n",
            "Collecting thop\n",
            "  Downloading thop-0.1.1.post2207130030-py3-none-any.whl (15 kB)\n",
            "Requirement already satisfied: torch in /usr/local/lib/python3.7/dist-packages (from thop) (1.12.0+cu113)\n",
            "Requirement already satisfied: typing-extensions in /usr/local/lib/python3.7/dist-packages (from torch->thop) (4.1.1)\n",
            "Installing collected packages: thop\n",
            "Successfully installed thop-0.1.1.post2207130030\n",
            "Cloning into 'apex'...\n",
            "remote: Enumerating objects: 9949, done.\u001b[K\n",
            "remote: Counting objects: 100% (68/68), done.\u001b[K\n",
            "remote: Compressing objects: 100% (64/64), done.\u001b[K\n",
            "remote: Total 9949 (delta 21), reused 27 (delta 3), pack-reused 9881\u001b[K\n",
            "Receiving objects: 100% (9949/9949), 14.89 MiB | 26.11 MiB/s, done.\n",
            "Resolving deltas: 100% (6826/6826), done.\n"
          ]
        }
      ],
      "source": [
        "!pip install thop\n",
        "!git clone https://github.com/NVIDIA/apex"
      ]
    },
    {
      "cell_type": "code",
      "execution_count": 3,
      "metadata": {
        "colab": {
          "base_uri": "https://localhost:8080/"
        },
        "id": "acW-qtMsNBLD",
        "outputId": "0cd8f0d8-1524-4ece-b048-2d647dd7aafe"
      },
      "outputs": [
        {
          "output_type": "stream",
          "name": "stdout",
          "text": [
            "/content/working/apex\n"
          ]
        }
      ],
      "source": [
        "cd apex/"
      ]
    },
    {
      "cell_type": "code",
      "execution_count": 4,
      "metadata": {
        "id": "eakPCSt_NEFj"
      },
      "outputs": [],
      "source": [
        "! python setup.py install > /dev/null 2>&1"
      ]
    },
    {
      "cell_type": "code",
      "execution_count": 5,
      "metadata": {
        "colab": {
          "base_uri": "https://localhost:8080/"
        },
        "id": "VTmYx-wGNGBV",
        "outputId": "2c0cf3d9-8c7c-4b63-bd1a-e33d78eef35a"
      },
      "outputs": [
        {
          "output_type": "stream",
          "name": "stdout",
          "text": [
            "/content/working\n"
          ]
        }
      ],
      "source": [
        "cd .."
      ]
    },
    {
      "cell_type": "code",
      "execution_count": 6,
      "metadata": {
        "id": "PQEkGm1XNH4b"
      },
      "outputs": [],
      "source": [
        "rm -rf ./apex"
      ]
    },
    {
      "cell_type": "code",
      "execution_count": 7,
      "metadata": {
        "id": "1BD2ql4-NPaE"
      },
      "outputs": [],
      "source": [
        "import os\n",
        "os.chdir('/content/working/simclr1')"
      ]
    },
    {
      "cell_type": "code",
      "execution_count": 8,
      "metadata": {
        "colab": {
          "base_uri": "https://localhost:8080/"
        },
        "id": "jPFxqdFuNRTO",
        "outputId": "8496dc5b-88f3-4945-b679-77e2dd7e31a0"
      },
      "outputs": [
        {
          "output_type": "stream",
          "name": "stdout",
          "text": [
            "Files already downloaded and verified\n",
            "/usr/local/lib/python3.7/dist-packages/torch/utils/data/dataloader.py:560: UserWarning: This DataLoader will create 16 worker processes in total. Our suggested max number of worker in current system is 2, which is smaller than what this DataLoader is going to create. Please be aware that excessive worker creation might get DataLoader running slow or even freeze, lower the worker number to avoid potential slowness/freeze if necessary.\n",
            "  cpuset_checked))\n",
            "Files already downloaded and verified\n",
            "Files already downloaded and verified\n",
            "Selected optimization level O2:  FP16 training with FP32 batchnorm and FP32 master weights.\n",
            "\n",
            "Defaults for this optimization level are:\n",
            "enabled                : True\n",
            "opt_level              : O2\n",
            "cast_model_type        : torch.float16\n",
            "patch_torch_functions  : False\n",
            "keep_batchnorm_fp32    : True\n",
            "master_weights         : True\n",
            "loss_scale             : dynamic\n",
            "Processing user overrides (additional kwargs that are not None)...\n",
            "After processing overrides, optimization options are:\n",
            "enabled                : True\n",
            "opt_level              : O2\n",
            "cast_model_type        : torch.float16\n",
            "patch_torch_functions  : False\n",
            "keep_batchnorm_fp32    : True\n",
            "master_weights         : True\n",
            "loss_scale             : dynamic\n",
            "Warning:  multi_tensor_applier fused unscale kernel is unavailable, possibly because apex was installed without --cuda_ext --cpp_ext. Using Python fallback.  Original ImportError was: ModuleNotFoundError(\"No module named 'amp_C'\")\n",
            "[INFO] Register count_convNd() for <class 'torch.nn.modules.conv.Conv2d'>.\n",
            "[INFO] Register count_normalization() for <class 'torch.nn.modules.batchnorm.BatchNorm2d'>.\n",
            "[INFO] Register zero_ops() for <class 'torch.nn.modules.activation.ReLU'>.\n",
            "[INFO] Register zero_ops() for <class 'torch.nn.modules.container.Sequential'>.\n",
            "[INFO] Register count_adap_avgpool() for <class 'torch.nn.modules.pooling.AdaptiveAvgPool2d'>.\n",
            "[INFO] Register count_linear() for <class 'torch.nn.modules.linear.Linear'>.\n",
            "[INFO] Register count_normalization() for <class 'torch.nn.modules.batchnorm.BatchNorm1d'>.\n",
            "# Model Params: 24.62M FLOPs: 1.31G\n",
            "  0% 0/97 [00:00<?, ?it/s]Gradient overflow.  Skipping step, loss scaler 0 reducing loss scale to 32768.0\n",
            "Train Epoch: [1/10] Loss: 6.9089:   1% 1/97 [00:19<30:35, 19.12s/it]Gradient overflow.  Skipping step, loss scaler 0 reducing loss scale to 16384.0\n",
            "Train Epoch: [1/10] Loss: 6.5176:  43% 42/97 [01:12<01:35,  1.74s/it]\n",
            "Traceback (most recent call last):\n",
            "  File \"main.py\", line 139, in <module>\n",
            "    train_loss = train(model, train_loader, optimizer)\n",
            "  File \"main.py\", line 41, in train\n",
            "    scaled_loss.backward()\n",
            "  File \"/usr/lib/python3.7/contextlib.py\", line 119, in __exit__\n",
            "    next(self.gen)\n",
            "  File \"/usr/local/lib/python3.7/dist-packages/apex-0.1-py3.7.egg/apex/amp/handle.py\", line 123, in scale_loss\n",
            "  File \"/usr/local/lib/python3.7/dist-packages/apex-0.1-py3.7.egg/apex/amp/_process_optimizer.py\", line 190, in post_backward_with_master_weights\n",
            "  File \"/usr/local/lib/python3.7/dist-packages/apex-0.1-py3.7.egg/apex/amp/scaler.py\", line 119, in unscale\n",
            "  File \"/usr/local/lib/python3.7/dist-packages/apex-0.1-py3.7.egg/apex/amp/scaler.py\", line 89, in unscale_python\n",
            "  File \"/usr/local/lib/python3.7/dist-packages/apex-0.1-py3.7.egg/apex/amp/scaler.py\", line 9, in scale_check_overflow_python\n",
            "KeyboardInterrupt\n"
          ]
        }
      ],
      "source": [
        "!python main.py --batch_size 512 --epochs 10"
      ]
    },
    {
      "cell_type": "code",
      "execution_count": 9,
      "metadata": {
        "colab": {
          "base_uri": "https://localhost:8080/"
        },
        "id": "UKMfvl2nNTB_",
        "outputId": "8e1d979b-721d-4a49-e550-0891cb1f5c2d"
      },
      "outputs": [
        {
          "output_type": "stream",
          "name": "stdout",
          "text": [
            "Files already downloaded and verified\n",
            "/usr/local/lib/python3.7/dist-packages/torch/utils/data/dataloader.py:560: UserWarning: This DataLoader will create 16 worker processes in total. Our suggested max number of worker in current system is 2, which is smaller than what this DataLoader is going to create. Please be aware that excessive worker creation might get DataLoader running slow or even freeze, lower the worker number to avoid potential slowness/freeze if necessary.\n",
            "  cpuset_checked))\n",
            "Files already downloaded and verified\n",
            "Traceback (most recent call last):\n",
            "  File \"linear.py\", line 84, in <module>\n",
            "    model = Net(num_class=len(train_data.classes), pretrained_path=model_path).cuda()\n",
            "  File \"linear.py\", line 26, in __init__\n",
            "    self.load_state_dict(torch.load(pretrained_path, map_location='cpu'), strict=False)\n",
            "  File \"/usr/local/lib/python3.7/dist-packages/torch/serialization.py\", line 699, in load\n",
            "    with _open_file_like(f, 'rb') as opened_file:\n",
            "  File \"/usr/local/lib/python3.7/dist-packages/torch/serialization.py\", line 230, in _open_file_like\n",
            "    return _open_file(name_or_buffer, mode)\n",
            "  File \"/usr/local/lib/python3.7/dist-packages/torch/serialization.py\", line 211, in __init__\n",
            "    super(_open_file, self).__init__(open(name, mode))\n",
            "FileNotFoundError: [Errno 2] No such file or directory: 'results/128_0.5_200_512_10_model.pth'\n"
          ]
        }
      ],
      "source": [
        "!python linear.py --batch_size 1024 --epochs 10"
      ]
    }
  ],
  "metadata": {
    "colab": {
      "collapsed_sections": [],
      "name": "simclr_1.ipynb",
      "provenance": [],
      "include_colab_link": true
    },
    "gpuClass": "standard",
    "kernelspec": {
      "display_name": "Python 3.9.12 ('base')",
      "language": "python",
      "name": "python3"
    },
    "language_info": {
      "name": "python",
      "version": "3.9.12"
    },
    "vscode": {
      "interpreter": {
        "hash": "cc9daa352394ac6fd6b224fdae94757fb224b4aab069bc0189ad8c000c678227"
      }
    },
    "accelerator": "GPU"
  },
  "nbformat": 4,
  "nbformat_minor": 0
}