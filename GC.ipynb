{
  "cells": [
    {
      "cell_type": "markdown",
      "metadata": {
        "colab_type": "text",
        "id": "view-in-github"
      },
      "source": [
        "<a href=\"https://colab.research.google.com/github/JDekun/simclr1/blob/master/GC.ipynb\" target=\"_parent\"><img src=\"https://colab.research.google.com/assets/colab-badge.svg\" alt=\"Open In Colab\"/></a>"
      ]
    },
    {
      "cell_type": "code",
      "execution_count": 1,
      "metadata": {
        "cellView": "form",
        "colab": {
          "base_uri": "https://localhost:8080/"
        },
        "id": "wvYRyZ27v4NX",
        "outputId": "ecae5d68-bfc7-4d63-c45b-f57da24879b6"
      },
      "outputs": [
        {
          "name": "stdout",
          "output_type": "stream",
          "text": [
            "Cloning into 'Kaggle'...\n",
            "remote: Enumerating objects: 17, done.\u001b[K\n",
            "remote: Counting objects: 100% (17/17), done.\u001b[K\n",
            "remote: Compressing objects: 100% (13/13), done.\u001b[K\n",
            "remote: Total 17 (delta 0), reused 0 (delta 0), pack-reused 0\u001b[K\n",
            "Unpacking objects: 100% (17/17), done.\n",
            "Warning: Your Kaggle API key is readable by other users on this system! To fix this, you can run 'chmod 600 /content/Kaggle/kaggle.json'\n",
            "Downloading cifar-10-batches-py.zip to cifar-10-batches-py\n",
            " 84% 137M/162M [00:01<00:00, 143MB/s]\n",
            "100% 162M/162M [00:01<00:00, 146MB/s]\n",
            "Cloning into 'simclr1'...\n",
            "remote: Enumerating objects: 19, done.\u001b[K\n",
            "remote: Counting objects: 100% (19/19), done.\u001b[K\n",
            "remote: Compressing objects: 100% (16/16), done.\u001b[K\n",
            "remote: Total 19 (delta 3), reused 15 (delta 2), pack-reused 0\u001b[K\n",
            "Unpacking objects: 100% (19/19), done.\n",
            "/content/working\n"
          ]
        }
      ],
      "source": [
        "#@title 请输入数据集名称\n",
        "\n",
        "# 导入Kaggle API\n",
        "!git clone https://github.com/JDekun/Kaggle.git\n",
        "import os\n",
        "os.environ['KAGGLE_CONFIG_DIR'] = '/content/Kaggle' #注意kaggle文件夹包含json文件 \n",
        "\n",
        "!mkdir /content/input\n",
        "os.chdir('/content/input')\n",
        "\n",
        "# 数据集名字\n",
        "datasets = [\"janzenliu/cifar-10-batches-py\"]  #@param {type:\"raw\"}\n",
        "len_mydekun = len(datasets)\n",
        "\n",
        "if len_mydekun != 0:\n",
        "  for i in range(len_mydekun):\n",
        "    # 下载数据集\n",
        "    temp = datasets[i]\n",
        "    name, dataset = temp.split('/')\n",
        "    \n",
        "    zip = dataset + '.zip'\n",
        "    !kaggle datasets download -d $temp -p $dataset\n",
        "\n",
        "    # 解压数据集并删除压缩包\n",
        "    !unzip $dataset/$zip -d $dataset > /dev/null 2>&1\n",
        "    !rm -f $dataset/$zip\n",
        "\n",
        "# 设置运行时的根目录\n",
        "!mkdir /content/working\n",
        "os.chdir('/content/working')\n",
        "\n",
        "# GitHub名字\n",
        "github = [\"https://github.com/JDekun/simclr1.git\" ]  #@param {type:\"raw\"}\n",
        "len_github = len(github)\n",
        "if len_github != 0:\n",
        "  for i in range(len_github):\n",
        "    temp = github[i]\n",
        "    !git clone $temp\n",
        "\n",
        "!pwd"
      ]
    },
    {
      "cell_type": "code",
      "execution_count": 2,
      "metadata": {
        "colab": {
          "base_uri": "https://localhost:8080/"
        },
        "id": "KdeadOduWnjJ",
        "outputId": "e3065d74-0688-47d4-818c-2ffa040b9088"
      },
      "outputs": [
        {
          "name": "stdout",
          "output_type": "stream",
          "text": [
            "Looking in indexes: https://pypi.org/simple, https://us-python.pkg.dev/colab-wheels/public/simple/\n",
            "Collecting thop\n",
            "  Downloading thop-0.1.1.post2207130030-py3-none-any.whl (15 kB)\n",
            "Requirement already satisfied: torch in /usr/local/lib/python3.7/dist-packages (from thop) (1.12.0+cu113)\n",
            "Requirement already satisfied: typing-extensions in /usr/local/lib/python3.7/dist-packages (from torch->thop) (4.1.1)\n",
            "Installing collected packages: thop\n",
            "Successfully installed thop-0.1.1.post2207130030\n",
            "Cloning into 'apex'...\n",
            "remote: Enumerating objects: 9949, done.\u001b[K\n",
            "remote: Counting objects: 100% (68/68), done.\u001b[K\n",
            "remote: Compressing objects: 100% (64/64), done.\u001b[K\n",
            "remote: Total 9949 (delta 21), reused 27 (delta 3), pack-reused 9881\u001b[K\n",
            "Receiving objects: 100% (9949/9949), 14.88 MiB | 23.06 MiB/s, done.\n",
            "Resolving deltas: 100% (6823/6823), done.\n"
          ]
        }
      ],
      "source": [
        "!pip install thop wandb > /dev/null 2>&1\n",
        "!git clone https://github.com/NVIDIA/apex"
      ]
    },
    {
      "cell_type": "code",
      "execution_count": 3,
      "metadata": {
        "colab": {
          "base_uri": "https://localhost:8080/"
        },
        "id": "acW-qtMsNBLD",
        "outputId": "e7c53038-2058-4721-da77-adece7bead23"
      },
      "outputs": [
        {
          "name": "stdout",
          "output_type": "stream",
          "text": [
            "/content/working/apex\n"
          ]
        }
      ],
      "source": [
        "cd apex/"
      ]
    },
    {
      "cell_type": "code",
      "execution_count": 4,
      "metadata": {
        "id": "eakPCSt_NEFj"
      },
      "outputs": [],
      "source": [
        "! python setup.py install > /dev/null 2>&1"
      ]
    },
    {
      "cell_type": "code",
      "execution_count": 5,
      "metadata": {
        "colab": {
          "base_uri": "https://localhost:8080/"
        },
        "id": "VTmYx-wGNGBV",
        "outputId": "76eaa067-88ce-48b4-f5ea-16e68d77f2d7"
      },
      "outputs": [
        {
          "name": "stdout",
          "output_type": "stream",
          "text": [
            "/content/working\n"
          ]
        }
      ],
      "source": [
        "cd .."
      ]
    },
    {
      "cell_type": "code",
      "execution_count": 6,
      "metadata": {
        "id": "PQEkGm1XNH4b"
      },
      "outputs": [],
      "source": [
        "rm -rf ./apex"
      ]
    },
    {
      "cell_type": "code",
      "execution_count": 7,
      "metadata": {
        "id": "1BD2ql4-NPaE"
      },
      "outputs": [],
      "source": [
        "import os\n",
        "os.chdir('/content/working/simclr1')"
      ]
    },
    {
      "cell_type": "code",
      "execution_count": 8,
      "metadata": {
        "colab": {
          "base_uri": "https://localhost:8080/"
        },
        "id": "jPFxqdFuNRTO",
        "outputId": "c61c0166-14ad-45cf-992f-080da3a45b9b"
      },
      "outputs": [
        {
          "name": "stdout",
          "output_type": "stream",
          "text": [
            "Files already downloaded and verified\n",
            "/usr/local/lib/python3.7/dist-packages/torch/utils/data/dataloader.py:560: UserWarning: This DataLoader will create 16 worker processes in total. Our suggested max number of worker in current system is 2, which is smaller than what this DataLoader is going to create. Please be aware that excessive worker creation might get DataLoader running slow or even freeze, lower the worker number to avoid potential slowness/freeze if necessary.\n",
            "  cpuset_checked))\n",
            "Files already downloaded and verified\n",
            "Files already downloaded and verified\n",
            "Selected optimization level O2:  FP16 training with FP32 batchnorm and FP32 master weights.\n",
            "\n",
            "Defaults for this optimization level are:\n",
            "enabled                : True\n",
            "opt_level              : O2\n",
            "cast_model_type        : torch.float16\n",
            "patch_torch_functions  : False\n",
            "keep_batchnorm_fp32    : True\n",
            "master_weights         : True\n",
            "loss_scale             : dynamic\n",
            "Processing user overrides (additional kwargs that are not None)...\n",
            "After processing overrides, optimization options are:\n",
            "enabled                : True\n",
            "opt_level              : O2\n",
            "cast_model_type        : torch.float16\n",
            "patch_torch_functions  : False\n",
            "keep_batchnorm_fp32    : True\n",
            "master_weights         : True\n",
            "loss_scale             : dynamic\n",
            "Warning:  multi_tensor_applier fused unscale kernel is unavailable, possibly because apex was installed without --cuda_ext --cpp_ext. Using Python fallback.  Original ImportError was: ModuleNotFoundError(\"No module named 'amp_C'\")\n",
            "[INFO] Register count_convNd() for <class 'torch.nn.modules.conv.Conv2d'>.\n",
            "[INFO] Register count_normalization() for <class 'torch.nn.modules.batchnorm.BatchNorm2d'>.\n",
            "[INFO] Register zero_ops() for <class 'torch.nn.modules.activation.ReLU'>.\n",
            "[INFO] Register zero_ops() for <class 'torch.nn.modules.container.Sequential'>.\n",
            "[INFO] Register count_adap_avgpool() for <class 'torch.nn.modules.pooling.AdaptiveAvgPool2d'>.\n",
            "[INFO] Register count_linear() for <class 'torch.nn.modules.linear.Linear'>.\n",
            "[INFO] Register count_normalization() for <class 'torch.nn.modules.batchnorm.BatchNorm1d'>.\n",
            "# Model Params: 24.62M FLOPs: 1.31G\n",
            "  0% 0/97 [00:00<?, ?it/s]Gradient overflow.  Skipping step, loss scaler 0 reducing loss scale to 32768.0\n",
            "Train Epoch: [1/10] Loss: 6.9085:   1% 1/97 [00:17<27:28, 17.17s/it]Gradient overflow.  Skipping step, loss scaler 0 reducing loss scale to 16384.0\n",
            "Train Epoch: [1/10] Loss: 6.3302: 100% 97/97 [02:16<00:00,  1.41s/it]\n",
            "Feature extracting: 100% 98/98 [00:22<00:00,  4.38it/s]\n",
            "Test Epoch: [1/10] Acc@1:40.32% Acc@5:89.20%: 100% 20/20 [00:07<00:00,  2.62it/s]\n",
            "Train Epoch: [2/10] Loss: 5.9984: 100% 97/97 [02:16<00:00,  1.41s/it]\n",
            "Feature extracting: 100% 98/98 [00:22<00:00,  4.34it/s]\n",
            "Test Epoch: [2/10] Acc@1:43.20% Acc@5:90.91%: 100% 20/20 [00:07<00:00,  2.59it/s]\n",
            "Train Epoch: [3/10] Loss: 5.8788: 100% 97/97 [02:16<00:00,  1.41s/it]\n",
            "Feature extracting: 100% 98/98 [00:22<00:00,  4.30it/s]\n",
            "Test Epoch: [3/10] Acc@1:46.13% Acc@5:92.14%: 100% 20/20 [00:07<00:00,  2.63it/s]\n",
            "Train Epoch: [4/10] Loss: 5.8076: 100% 97/97 [02:17<00:00,  1.41s/it]\n",
            "Feature extracting: 100% 98/98 [00:23<00:00,  4.19it/s]\n",
            "Test Epoch: [4/10] Acc@1:49.29% Acc@5:93.26%: 100% 20/20 [00:07<00:00,  2.59it/s]\n",
            "Train Epoch: [5/10] Loss: 5.7609: 100% 97/97 [02:16<00:00,  1.41s/it]\n",
            "Feature extracting: 100% 98/98 [00:22<00:00,  4.31it/s]\n",
            "Test Epoch: [5/10] Acc@1:50.52% Acc@5:94.04%: 100% 20/20 [00:07<00:00,  2.55it/s]\n",
            "Train Epoch: [6/10] Loss: 5.7246: 100% 97/97 [02:17<00:00,  1.42s/it]\n",
            "Feature extracting: 100% 98/98 [00:22<00:00,  4.30it/s]\n",
            "Test Epoch: [6/10] Acc@1:52.71% Acc@5:94.55%: 100% 20/20 [00:07<00:00,  2.60it/s]\n",
            "Train Epoch: [7/10] Loss: 5.6984: 100% 97/97 [02:16<00:00,  1.41s/it]\n",
            "Feature extracting: 100% 98/98 [00:22<00:00,  4.30it/s]\n",
            "Test Epoch: [7/10] Acc@1:54.81% Acc@5:95.48%: 100% 20/20 [00:07<00:00,  2.64it/s]\n",
            "Train Epoch: [8/10] Loss: 5.6666: 100% 97/97 [02:17<00:00,  1.42s/it]\n",
            "Feature extracting: 100% 98/98 [00:23<00:00,  4.17it/s]\n",
            "Test Epoch: [8/10] Acc@1:56.28% Acc@5:95.91%: 100% 20/20 [00:07<00:00,  2.62it/s]\n",
            "Train Epoch: [9/10] Loss: 5.6433: 100% 97/97 [02:16<00:00,  1.40s/it]\n",
            "Feature extracting: 100% 98/98 [00:22<00:00,  4.33it/s]\n",
            "Test Epoch: [9/10] Acc@1:57.49% Acc@5:96.08%: 100% 20/20 [00:07<00:00,  2.65it/s]\n",
            "Train Epoch: [10/10] Loss: 5.6209: 100% 97/97 [02:16<00:00,  1.41s/it]\n",
            "Feature extracting: 100% 98/98 [00:22<00:00,  4.32it/s]\n",
            "Test Epoch: [10/10] Acc@1:58.21% Acc@5:96.31%: 100% 20/20 [00:07<00:00,  2.53it/s]\n"
          ]
        }
      ],
      "source": [
        "!python main.py --batch_size 512 --use_checkpoint False --epochs 1 --amp True --amp_level 'O2' --results_path \"results\" --datasets_path \"../../input\""
      ]
    },
    {
      "cell_type": "code",
      "execution_count": null,
      "metadata": {},
      "outputs": [],
      "source": [
        "!python main.py --resume True --resume_path 'results/128_0.5_200_512_1_model.pth' --batch_size 512 --use_checkpoint False --epochs 2 --amp True --amp_level 'O2' --results_path \"results\" --datasets_path \"../../input\""
      ]
    },
    {
      "cell_type": "code",
      "execution_count": 9,
      "metadata": {
        "colab": {
          "base_uri": "https://localhost:8080/"
        },
        "id": "UKMfvl2nNTB_",
        "outputId": "26a2a58e-d39b-4723-9878-6ad507351613"
      },
      "outputs": [
        {
          "name": "stdout",
          "output_type": "stream",
          "text": [
            "Files already downloaded and verified\n",
            "/usr/local/lib/python3.7/dist-packages/torch/utils/data/dataloader.py:560: UserWarning: This DataLoader will create 16 worker processes in total. Our suggested max number of worker in current system is 2, which is smaller than what this DataLoader is going to create. Please be aware that excessive worker creation might get DataLoader running slow or even freeze, lower the worker number to avoid potential slowness/freeze if necessary.\n",
            "  cpuset_checked))\n",
            "Files already downloaded and verified\n",
            "Selected optimization level O2:  FP16 training with FP32 batchnorm and FP32 master weights.\n",
            "\n",
            "Defaults for this optimization level are:\n",
            "enabled                : True\n",
            "opt_level              : O2\n",
            "cast_model_type        : torch.float16\n",
            "patch_torch_functions  : False\n",
            "keep_batchnorm_fp32    : True\n",
            "master_weights         : True\n",
            "loss_scale             : dynamic\n",
            "Processing user overrides (additional kwargs that are not None)...\n",
            "After processing overrides, optimization options are:\n",
            "enabled                : True\n",
            "opt_level              : O2\n",
            "cast_model_type        : torch.float16\n",
            "patch_torch_functions  : False\n",
            "keep_batchnorm_fp32    : True\n",
            "master_weights         : True\n",
            "loss_scale             : dynamic\n",
            "Warning:  multi_tensor_applier fused unscale kernel is unavailable, possibly because apex was installed without --cuda_ext --cpp_ext. Using Python fallback.  Original ImportError was: ModuleNotFoundError(\"No module named 'amp_C'\")\n",
            "[INFO] Register count_convNd() for <class 'torch.nn.modules.conv.Conv2d'>.\n",
            "[INFO] Register count_normalization() for <class 'torch.nn.modules.batchnorm.BatchNorm2d'>.\n",
            "[INFO] Register zero_ops() for <class 'torch.nn.modules.activation.ReLU'>.\n",
            "[INFO] Register zero_ops() for <class 'torch.nn.modules.container.Sequential'>.\n",
            "[INFO] Register count_adap_avgpool() for <class 'torch.nn.modules.pooling.AdaptiveAvgPool2d'>.\n",
            "[INFO] Register count_linear() for <class 'torch.nn.modules.linear.Linear'>.\n",
            "# Model Params: 23.52M FLOPs: 1.31G\n",
            "Train Epoch: [1/10] Loss: 1.5485 ACC@1: 44.68% ACC@5: 89.26%: 100% 49/49 [00:41<00:00,  1.17it/s]\n",
            "Test Epoch: [1/10] Loss: 1.2156 ACC@1: 56.08% ACC@5: 95.40%: 100% 10/10 [00:06<00:00,  1.56it/s]\n",
            "Train Epoch: [2/10] Loss: 1.3634 ACC@1: 51.09% ACC@5: 92.97%: 100% 49/49 [00:40<00:00,  1.22it/s]\n",
            "Test Epoch: [2/10] Loss: 1.1790 ACC@1: 56.79% ACC@5: 95.91%: 100% 10/10 [00:06<00:00,  1.53it/s]\n",
            "Train Epoch: [3/10] Loss: 1.3312 ACC@1: 52.25% ACC@5: 93.54%: 100% 49/49 [00:40<00:00,  1.22it/s]\n",
            "Test Epoch: [3/10] Loss: 1.1592 ACC@1: 57.85% ACC@5: 95.94%: 100% 10/10 [00:06<00:00,  1.56it/s]\n",
            "Train Epoch: [4/10] Loss: 1.3251 ACC@1: 52.86% ACC@5: 93.60%: 100% 49/49 [00:41<00:00,  1.18it/s]\n",
            "Test Epoch: [4/10] Loss: 1.1362 ACC@1: 59.23% ACC@5: 96.14%: 100% 10/10 [00:06<00:00,  1.56it/s]\n",
            "Train Epoch: [5/10] Loss: 1.3046 ACC@1: 53.52% ACC@5: 93.85%: 100% 49/49 [00:40<00:00,  1.22it/s]\n",
            "Test Epoch: [5/10] Loss: 1.1398 ACC@1: 59.04% ACC@5: 96.27%: 100% 10/10 [00:06<00:00,  1.57it/s]\n",
            "Train Epoch: [6/10] Loss: 1.3018 ACC@1: 53.73% ACC@5: 93.72%: 100% 49/49 [00:40<00:00,  1.21it/s]\n",
            "Test Epoch: [6/10] Loss: 1.1256 ACC@1: 59.40% ACC@5: 96.34%: 100% 10/10 [00:06<00:00,  1.50it/s]\n",
            "Train Epoch: [7/10] Loss: 1.2945 ACC@1: 53.95% ACC@5: 93.95%: 100% 49/49 [00:42<00:00,  1.14it/s]\n",
            "Test Epoch: [7/10] Loss: 1.1395 ACC@1: 59.14% ACC@5: 96.13%: 100% 10/10 [00:06<00:00,  1.55it/s]\n",
            "Train Epoch: [8/10] Loss: 1.2895 ACC@1: 54.15% ACC@5: 93.95%: 100% 49/49 [00:41<00:00,  1.18it/s]\n",
            "Test Epoch: [8/10] Loss: 1.0854 ACC@1: 61.41% ACC@5: 96.32%: 100% 10/10 [00:06<00:00,  1.54it/s]\n",
            "Train Epoch: [9/10] Loss: 1.2830 ACC@1: 54.54% ACC@5: 94.01%: 100% 49/49 [00:41<00:00,  1.17it/s]\n",
            "Test Epoch: [9/10] Loss: 1.0859 ACC@1: 61.28% ACC@5: 96.48%: 100% 10/10 [00:07<00:00,  1.39it/s]\n",
            "Train Epoch: [10/10] Loss: 1.2773 ACC@1: 54.64% ACC@5: 93.93%: 100% 49/49 [00:40<00:00,  1.21it/s]\n",
            "Test Epoch: [10/10] Loss: 1.0857 ACC@1: 61.09% ACC@5: 96.74%: 100% 10/10 [00:06<00:00,  1.57it/s]\n"
          ]
        }
      ],
      "source": [
        "!python linear.py --batch_size 1024 --epochs 1 --amp True --amp_level 'O2' --model_path 'results/128_0.5_200_512_2_model.pth' --results_path \"results\" --datasets_path \"../../input\""
      ]
    }
  ],
  "metadata": {
    "accelerator": "GPU",
    "colab": {
      "collapsed_sections": [],
      "include_colab_link": true,
      "name": "simclr_1.ipynb",
      "provenance": []
    },
    "gpuClass": "standard",
    "kernelspec": {
      "display_name": "Python 3.9.12 ('base')",
      "language": "python",
      "name": "python3"
    },
    "language_info": {
      "codemirror_mode": {
        "name": "ipython",
        "version": 3
      },
      "file_extension": ".py",
      "mimetype": "text/x-python",
      "name": "python",
      "nbconvert_exporter": "python",
      "pygments_lexer": "ipython3",
      "version": "3.9.12"
    },
    "vscode": {
      "interpreter": {
        "hash": "cc9daa352394ac6fd6b224fdae94757fb224b4aab069bc0189ad8c000c678227"
      }
    }
  },
  "nbformat": 4,
  "nbformat_minor": 0
}
