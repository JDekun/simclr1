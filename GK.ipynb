{
 "cells": [
  {
   "cell_type": "code",
   "execution_count": 1,
   "id": "11359723",
   "metadata": {
    "execution": {
     "iopub.execute_input": "2022-07-21T16:38:32.035361Z",
     "iopub.status.busy": "2022-07-21T16:38:32.034359Z",
     "iopub.status.idle": "2022-07-21T16:38:33.514056Z",
     "shell.execute_reply": "2022-07-21T16:38:33.512858Z"
    },
    "executionInfo": {
     "elapsed": 7039,
     "status": "ok",
     "timestamp": 1658366127988,
     "user": {
      "displayName": "K K",
      "userId": "15244586291530659307"
     },
     "user_tz": -480
    },
    "id": "wvYRyZ27v4NX",
    "outputId": "2e861249-b8c2-45a6-ddfd-ab13fd85e42b",
    "papermill": {
     "duration": 1.488883,
     "end_time": "2022-07-21T16:38:33.517843",
     "exception": false,
     "start_time": "2022-07-21T16:38:32.028960",
     "status": "completed"
    },
    "tags": []
   },
   "outputs": [
    {
     "name": "stdout",
     "output_type": "stream",
     "text": [
      "Cloning into 'simclr1'...\r\n",
      "remote: Enumerating objects: 19, done.\u001b[K\r\n",
      "remote: Counting objects: 100% (19/19), done.\u001b[K\r\n",
      "remote: Compressing objects: 100% (16/16), done.\u001b[K\r\n",
      "remote: Total 19 (delta 3), reused 15 (delta 2), pack-reused 0\u001b[K\r\n",
      "Unpacking objects: 100% (19/19), 60.34 KiB | 1.00 MiB/s, done.\r\n"
     ]
    }
   ],
   "source": [
    "!git clone https://github.com/JDekun/simclr1.git"
   ]
  },
  {
   "cell_type": "code",
   "execution_count": 2,
   "id": "80b9974b",
   "metadata": {
    "execution": {
     "iopub.execute_input": "2022-07-21T16:38:33.532090Z",
     "iopub.status.busy": "2022-07-21T16:38:33.531517Z",
     "iopub.status.idle": "2022-07-21T16:38:46.759287Z",
     "shell.execute_reply": "2022-07-21T16:38:46.758184Z"
    },
    "id": "KdeadOduWnjJ",
    "papermill": {
     "duration": 13.238055,
     "end_time": "2022-07-21T16:38:46.761998",
     "exception": false,
     "start_time": "2022-07-21T16:38:33.523943",
     "status": "completed"
    },
    "tags": []
   },
   "outputs": [
    {
     "name": "stdout",
     "output_type": "stream",
     "text": [
      "Collecting thop\r\n",
      "  Downloading thop-0.1.1.post2207130030-py3-none-any.whl (15 kB)\r\n",
      "Requirement already satisfied: torch in /opt/conda/lib/python3.7/site-packages (from thop) (1.11.0)\r\n",
      "Requirement already satisfied: typing-extensions in /opt/conda/lib/python3.7/site-packages (from torch->thop) (4.1.1)\r\n",
      "Installing collected packages: thop\r\n",
      "Successfully installed thop-0.1.1.post2207130030\r\n",
      "\u001b[33mWARNING: Running pip as the 'root' user can result in broken permissions and conflicting behaviour with the system package manager. It is recommended to use a virtual environment instead: https://pip.pypa.io/warnings/venv\u001b[0m\u001b[33m\r\n",
      "\u001b[0mCloning into 'apex'...\r\n",
      "remote: Enumerating objects: 9949, done.\u001b[K\r\n",
      "remote: Counting objects: 100% (68/68), done.\u001b[K\r\n",
      "remote: Compressing objects: 100% (64/64), done.\u001b[K\r\n",
      "remote: Total 9949 (delta 21), reused 27 (delta 3), pack-reused 9881\u001b[K\r\n",
      "Receiving objects: 100% (9949/9949), 14.89 MiB | 20.09 MiB/s, done.\r\n",
      "Resolving deltas: 100% (6826/6826), done.\r\n"
     ]
    }
   ],
   "source": [
    "!pip install thop\n",
    "!git clone https://github.com/NVIDIA/apex"
   ]
  },
  {
   "cell_type": "code",
   "execution_count": 3,
   "id": "25b5020a",
   "metadata": {
    "execution": {
     "iopub.execute_input": "2022-07-21T16:38:46.773308Z",
     "iopub.status.busy": "2022-07-21T16:38:46.772968Z",
     "iopub.status.idle": "2022-07-21T16:38:46.779337Z",
     "shell.execute_reply": "2022-07-21T16:38:46.778334Z"
    },
    "executionInfo": {
     "elapsed": 602,
     "status": "ok",
     "timestamp": 1658318550948,
     "user": {
      "displayName": "K K",
      "userId": "15244586291530659307"
     },
     "user_tz": -480
    },
    "id": "acW-qtMsNBLD",
    "outputId": "6beee758-3db3-4c11-b860-6e84ec6c9e12",
    "papermill": {
     "duration": 0.016078,
     "end_time": "2022-07-21T16:38:46.783159",
     "exception": false,
     "start_time": "2022-07-21T16:38:46.767081",
     "status": "completed"
    },
    "tags": []
   },
   "outputs": [
    {
     "name": "stdout",
     "output_type": "stream",
     "text": [
      "/kaggle/working/apex\n"
     ]
    }
   ],
   "source": [
    "cd apex/"
   ]
  },
  {
   "cell_type": "code",
   "execution_count": 4,
   "id": "047ab045",
   "metadata": {
    "execution": {
     "iopub.execute_input": "2022-07-21T16:38:46.794797Z",
     "iopub.status.busy": "2022-07-21T16:38:46.794533Z",
     "iopub.status.idle": "2022-07-21T16:38:52.080331Z",
     "shell.execute_reply": "2022-07-21T16:38:52.078913Z"
    },
    "id": "eakPCSt_NEFj",
    "papermill": {
     "duration": 5.294,
     "end_time": "2022-07-21T16:38:52.082741",
     "exception": false,
     "start_time": "2022-07-21T16:38:46.788741",
     "status": "completed"
    },
    "tags": []
   },
   "outputs": [],
   "source": [
    "! python setup.py install > /dev/null 2>&1"
   ]
  },
  {
   "cell_type": "code",
   "execution_count": 5,
   "id": "eaadc66b",
   "metadata": {
    "execution": {
     "iopub.execute_input": "2022-07-21T16:38:52.094165Z",
     "iopub.status.busy": "2022-07-21T16:38:52.093865Z",
     "iopub.status.idle": "2022-07-21T16:38:52.100025Z",
     "shell.execute_reply": "2022-07-21T16:38:52.099009Z"
    },
    "executionInfo": {
     "elapsed": 16,
     "status": "ok",
     "timestamp": 1658318556145,
     "user": {
      "displayName": "K K",
      "userId": "15244586291530659307"
     },
     "user_tz": -480
    },
    "id": "VTmYx-wGNGBV",
    "outputId": "6ed72f31-195c-4175-e62b-5b836117e34c",
    "papermill": {
     "duration": 0.014123,
     "end_time": "2022-07-21T16:38:52.101910",
     "exception": false,
     "start_time": "2022-07-21T16:38:52.087787",
     "status": "completed"
    },
    "tags": []
   },
   "outputs": [
    {
     "name": "stdout",
     "output_type": "stream",
     "text": [
      "/kaggle/working\n"
     ]
    }
   ],
   "source": [
    "cd .."
   ]
  },
  {
   "cell_type": "code",
   "execution_count": 6,
   "id": "175e989b",
   "metadata": {
    "execution": {
     "iopub.execute_input": "2022-07-21T16:38:52.113054Z",
     "iopub.status.busy": "2022-07-21T16:38:52.112294Z",
     "iopub.status.idle": "2022-07-21T16:38:52.786500Z",
     "shell.execute_reply": "2022-07-21T16:38:52.785275Z"
    },
    "id": "PQEkGm1XNH4b",
    "papermill": {
     "duration": 0.682192,
     "end_time": "2022-07-21T16:38:52.788859",
     "exception": false,
     "start_time": "2022-07-21T16:38:52.106667",
     "status": "completed"
    },
    "tags": []
   },
   "outputs": [],
   "source": [
    "rm -rf ./apex"
   ]
  },
  {
   "cell_type": "code",
   "execution_count": 7,
   "id": "1b44c004",
   "metadata": {
    "execution": {
     "iopub.execute_input": "2022-07-21T16:38:52.801198Z",
     "iopub.status.busy": "2022-07-21T16:38:52.800516Z",
     "iopub.status.idle": "2022-07-21T16:38:52.805561Z",
     "shell.execute_reply": "2022-07-21T16:38:52.804526Z"
    },
    "id": "1BD2ql4-NPaE",
    "papermill": {
     "duration": 0.013313,
     "end_time": "2022-07-21T16:38:52.807531",
     "exception": false,
     "start_time": "2022-07-21T16:38:52.794218",
     "status": "completed"
    },
    "tags": []
   },
   "outputs": [],
   "source": [
    "import os\n",
    "os.chdir('/kaggle/working/simclr1')"
   ]
  },
  {
   "cell_type": "code",
   "execution_count": 8,
   "id": "6162456a",
   "metadata": {
    "execution": {
     "iopub.execute_input": "2022-07-21T16:38:52.819381Z",
     "iopub.status.busy": "2022-07-21T16:38:52.818055Z",
     "iopub.status.idle": "2022-07-21T17:19:36.402814Z",
     "shell.execute_reply": "2022-07-21T17:19:36.401697Z"
    },
    "executionInfo": {
     "elapsed": 1740010,
     "status": "ok",
     "timestamp": 1658320298051,
     "user": {
      "displayName": "K K",
      "userId": "15244586291530659307"
     },
     "user_tz": -480
    },
    "id": "jPFxqdFuNRTO",
    "outputId": "38a011f7-1d79-4408-abcf-ebf87dc76b79",
    "papermill": {
     "duration": 2443.593246,
     "end_time": "2022-07-21T17:19:36.405604",
     "exception": false,
     "start_time": "2022-07-21T16:38:52.812358",
     "status": "completed"
    },
    "tags": []
   },
   "outputs": [
    {
     "name": "stdout",
     "output_type": "stream",
     "text": [
      "Files already downloaded and verified\r\n",
      "/opt/conda/lib/python3.7/site-packages/torch/utils/data/dataloader.py:490: UserWarning: This DataLoader will create 16 worker processes in total. Our suggested max number of worker in current system is 2, which is smaller than what this DataLoader is going to create. Please be aware that excessive worker creation might get DataLoader running slow or even freeze, lower the worker number to avoid potential slowness/freeze if necessary.\r\n",
      "  cpuset_checked))\r\n",
      "Files already downloaded and verified\r\n",
      "Files already downloaded and verified\r\n",
      "Selected optimization level O2:  FP16 training with FP32 batchnorm and FP32 master weights.\r\n",
      "\r\n",
      "Defaults for this optimization level are:\r\n",
      "enabled                : True\r\n",
      "opt_level              : O2\r\n",
      "cast_model_type        : torch.float16\r\n",
      "patch_torch_functions  : False\r\n",
      "keep_batchnorm_fp32    : True\r\n",
      "master_weights         : True\r\n",
      "loss_scale             : dynamic\r\n",
      "Processing user overrides (additional kwargs that are not None)...\r\n",
      "After processing overrides, optimization options are:\r\n",
      "enabled                : True\r\n",
      "opt_level              : O2\r\n",
      "cast_model_type        : torch.float16\r\n",
      "patch_torch_functions  : False\r\n",
      "keep_batchnorm_fp32    : True\r\n",
      "master_weights         : True\r\n",
      "loss_scale             : dynamic\r\n",
      "Warning:  multi_tensor_applier fused unscale kernel is unavailable, possibly because apex was installed without --cuda_ext --cpp_ext. Using Python fallback.  Original ImportError was: ModuleNotFoundError(\"No module named 'amp_C'\")\r\n",
      "[INFO] Register count_convNd() for <class 'torch.nn.modules.conv.Conv2d'>.\r\n",
      "[INFO] Register count_normalization() for <class 'torch.nn.modules.batchnorm.BatchNorm2d'>.\r\n",
      "[INFO] Register zero_ops() for <class 'torch.nn.modules.activation.ReLU'>.\r\n",
      "[INFO] Register zero_ops() for <class 'torch.nn.modules.container.Sequential'>.\r\n",
      "[INFO] Register count_adap_avgpool() for <class 'torch.nn.modules.pooling.AdaptiveAvgPool2d'>.\r\n",
      "[INFO] Register count_linear() for <class 'torch.nn.modules.linear.Linear'>.\r\n",
      "[INFO] Register count_normalization() for <class 'torch.nn.modules.batchnorm.BatchNorm1d'>.\r\n",
      "# Model Params: 24.62M FLOPs: 1.31G\r\n",
      "  0%|                                                    | 0/97 [00:00<?, ?it/s]Gradient overflow.  Skipping step, loss scaler 0 reducing loss scale to 32768.0\r\n",
      "Train Epoch: [1/10] Loss: 6.3343: 100%|█████████| 97/97 [03:25<00:00,  2.12s/it]\r\n",
      "Feature extracting: 100%|███████████████████████| 98/98 [00:29<00:00,  3.28it/s]\r\n",
      "Test Epoch: [1/10] Acc@1:39.45% Acc@5:88.80%: 100%|█| 20/20 [00:09<00:00,  2.14i\r\n",
      "Train Epoch: [2/10] Loss: 6.0025: 100%|█████████| 97/97 [03:22<00:00,  2.08s/it]\r\n",
      "Feature extracting: 100%|███████████████████████| 98/98 [00:30<00:00,  3.17it/s]\r\n",
      "Test Epoch: [2/10] Acc@1:43.00% Acc@5:90.90%: 100%|█| 20/20 [00:09<00:00,  2.02i\r\n",
      "Train Epoch: [3/10] Loss: 5.8919: 100%|█████████| 97/97 [03:21<00:00,  2.08s/it]\r\n",
      "Feature extracting: 100%|███████████████████████| 98/98 [00:29<00:00,  3.29it/s]\r\n",
      "Test Epoch: [3/10] Acc@1:46.62% Acc@5:91.95%: 100%|█| 20/20 [00:10<00:00,  1.97i\r\n",
      "Train Epoch: [4/10] Loss: 5.8157: 100%|█████████| 97/97 [03:22<00:00,  2.09s/it]\r\n",
      "Feature extracting: 100%|███████████████████████| 98/98 [00:30<00:00,  3.27it/s]\r\n",
      "Test Epoch: [4/10] Acc@1:49.29% Acc@5:93.25%: 100%|█| 20/20 [00:09<00:00,  2.08i\r\n",
      "Train Epoch: [5/10] Loss: 5.7872: 100%|█████████| 97/97 [03:20<00:00,  2.07s/it]\r\n",
      "Feature extracting: 100%|███████████████████████| 98/98 [00:30<00:00,  3.25it/s]\r\n",
      "Test Epoch: [5/10] Acc@1:51.05% Acc@5:93.91%: 100%|█| 20/20 [00:09<00:00,  2.03i\r\n",
      "Train Epoch: [6/10] Loss: 5.7287: 100%|█████████| 97/97 [03:21<00:00,  2.08s/it]\r\n",
      "Feature extracting: 100%|███████████████████████| 98/98 [00:29<00:00,  3.28it/s]\r\n",
      "Test Epoch: [6/10] Acc@1:52.78% Acc@5:94.68%: 100%|█| 20/20 [00:09<00:00,  2.06i\r\n",
      "Train Epoch: [7/10] Loss: 5.6935: 100%|█████████| 97/97 [03:21<00:00,  2.08s/it]\r\n",
      "Feature extracting: 100%|███████████████████████| 98/98 [00:31<00:00,  3.15it/s]\r\n",
      "Test Epoch: [7/10] Acc@1:56.05% Acc@5:95.82%: 100%|█| 20/20 [00:10<00:00,  1.94i\r\n",
      "Train Epoch: [8/10] Loss: 5.6687: 100%|█████████| 97/97 [03:20<00:00,  2.07s/it]\r\n",
      "Feature extracting: 100%|███████████████████████| 98/98 [00:29<00:00,  3.29it/s]\r\n",
      "Test Epoch: [8/10] Acc@1:55.72% Acc@5:95.75%: 100%|█| 20/20 [00:08<00:00,  2.23i\r\n",
      "Train Epoch: [9/10] Loss: 5.6450: 100%|█████████| 97/97 [03:21<00:00,  2.07s/it]\r\n",
      "Feature extracting: 100%|███████████████████████| 98/98 [00:29<00:00,  3.32it/s]\r\n",
      "Test Epoch: [9/10] Acc@1:57.47% Acc@5:96.19%: 100%|█| 20/20 [00:09<00:00,  2.05i\r\n",
      "Train Epoch: [10/10] Loss: 5.6255: 100%|████████| 97/97 [03:21<00:00,  2.07s/it]\r\n",
      "Feature extracting: 100%|███████████████████████| 98/98 [00:29<00:00,  3.30it/s]\r\n",
      "Test Epoch: [10/10] Acc@1:59.06% Acc@5:96.54%: 100%|█| 20/20 [00:09<00:00,  2.05\r\n"
     ]
    }
   ],
   "source": [
    "!python main.py --batch_size 512 --epochs 10"
   ]
  },
  {
   "cell_type": "code",
   "execution_count": 9,
   "id": "575fc065",
   "metadata": {
    "execution": {
     "iopub.execute_input": "2022-07-21T17:19:36.673104Z",
     "iopub.status.busy": "2022-07-21T17:19:36.672206Z",
     "iopub.status.idle": "2022-07-21T17:29:24.597094Z",
     "shell.execute_reply": "2022-07-21T17:29:24.595906Z"
    },
    "executionInfo": {
     "elapsed": 491079,
     "status": "ok",
     "timestamp": 1658320789123,
     "user": {
      "displayName": "K K",
      "userId": "15244586291530659307"
     },
     "user_tz": -480
    },
    "id": "UKMfvl2nNTB_",
    "outputId": "a0a2e692-c685-47f1-a9ee-576ca24c28f0",
    "papermill": {
     "duration": 588.060013,
     "end_time": "2022-07-21T17:29:24.599533",
     "exception": false,
     "start_time": "2022-07-21T17:19:36.539520",
     "status": "completed"
    },
    "tags": []
   },
   "outputs": [
    {
     "name": "stdout",
     "output_type": "stream",
     "text": [
      "Files already downloaded and verified\r\n",
      "/opt/conda/lib/python3.7/site-packages/torch/utils/data/dataloader.py:490: UserWarning: This DataLoader will create 16 worker processes in total. Our suggested max number of worker in current system is 2, which is smaller than what this DataLoader is going to create. Please be aware that excessive worker creation might get DataLoader running slow or even freeze, lower the worker number to avoid potential slowness/freeze if necessary.\r\n",
      "  cpuset_checked))\r\n",
      "Files already downloaded and verified\r\n",
      "Selected optimization level O2:  FP16 training with FP32 batchnorm and FP32 master weights.\r\n",
      "\r\n",
      "Defaults for this optimization level are:\r\n",
      "enabled                : True\r\n",
      "opt_level              : O2\r\n",
      "cast_model_type        : torch.float16\r\n",
      "patch_torch_functions  : False\r\n",
      "keep_batchnorm_fp32    : True\r\n",
      "master_weights         : True\r\n",
      "loss_scale             : dynamic\r\n",
      "Processing user overrides (additional kwargs that are not None)...\r\n",
      "After processing overrides, optimization options are:\r\n",
      "enabled                : True\r\n",
      "opt_level              : O2\r\n",
      "cast_model_type        : torch.float16\r\n",
      "patch_torch_functions  : False\r\n",
      "keep_batchnorm_fp32    : True\r\n",
      "master_weights         : True\r\n",
      "loss_scale             : dynamic\r\n",
      "Warning:  multi_tensor_applier fused unscale kernel is unavailable, possibly because apex was installed without --cuda_ext --cpp_ext. Using Python fallback.  Original ImportError was: ModuleNotFoundError(\"No module named 'amp_C'\")\r\n",
      "[INFO] Register count_convNd() for <class 'torch.nn.modules.conv.Conv2d'>.\r\n",
      "[INFO] Register count_normalization() for <class 'torch.nn.modules.batchnorm.BatchNorm2d'>.\r\n",
      "[INFO] Register zero_ops() for <class 'torch.nn.modules.activation.ReLU'>.\r\n",
      "[INFO] Register zero_ops() for <class 'torch.nn.modules.container.Sequential'>.\r\n",
      "[INFO] Register count_adap_avgpool() for <class 'torch.nn.modules.pooling.AdaptiveAvgPool2d'>.\r\n",
      "[INFO] Register count_linear() for <class 'torch.nn.modules.linear.Linear'>.\r\n",
      "# Model Params: 23.52M FLOPs: 1.31G\r\n",
      "Train Epoch: [1/10] Loss: 1.5446 ACC@1: 44.55% ACC@5: 89.56%: 100%|█| 49/49 [00:\r\n",
      "Test Epoch: [1/10] Loss: 1.1875 ACC@1: 57.16% ACC@5: 95.77%: 100%|█| 10/10 [00:0\r\n",
      "Train Epoch: [2/10] Loss: 1.3694 ACC@1: 50.85% ACC@5: 93.13%: 100%|█| 49/49 [00:\r\n",
      "Test Epoch: [2/10] Loss: 1.1628 ACC@1: 57.31% ACC@5: 96.04%: 100%|█| 10/10 [00:0\r\n",
      "Train Epoch: [3/10] Loss: 1.3294 ACC@1: 52.08% ACC@5: 93.65%: 100%|█| 49/49 [00:\r\n",
      "Test Epoch: [3/10] Loss: 1.1520 ACC@1: 58.28% ACC@5: 96.30%: 100%|█| 10/10 [00:0\r\n",
      "Train Epoch: [4/10] Loss: 1.3263 ACC@1: 52.51% ACC@5: 93.69%: 100%|█| 49/49 [00:\r\n",
      "Test Epoch: [4/10] Loss: 1.1323 ACC@1: 59.14% ACC@5: 96.04%: 100%|█| 10/10 [00:0\r\n",
      "Train Epoch: [5/10] Loss: 1.3210 ACC@1: 52.68% ACC@5: 93.65%: 100%|█| 49/49 [00:\r\n",
      "Test Epoch: [5/10] Loss: 1.1170 ACC@1: 59.55% ACC@5: 96.53%: 100%|█| 10/10 [00:0\r\n",
      "Train Epoch: [6/10] Loss: 1.3035 ACC@1: 53.37% ACC@5: 93.81%: 100%|█| 49/49 [00:\r\n",
      "Test Epoch: [6/10] Loss: 1.0949 ACC@1: 60.78% ACC@5: 96.53%: 100%|█| 10/10 [00:0\r\n",
      "Train Epoch: [7/10] Loss: 1.3022 ACC@1: 53.33% ACC@5: 93.81%: 100%|█| 49/49 [00:\r\n",
      "Test Epoch: [7/10] Loss: 1.0876 ACC@1: 61.14% ACC@5: 96.54%: 100%|█| 10/10 [00:0\r\n",
      "Train Epoch: [8/10] Loss: 1.2930 ACC@1: 53.98% ACC@5: 93.89%: 100%|█| 49/49 [00:\r\n",
      "Test Epoch: [8/10] Loss: 1.0899 ACC@1: 61.59% ACC@5: 96.48%: 100%|█| 10/10 [00:0\r\n",
      "Train Epoch: [9/10] Loss: 1.2811 ACC@1: 54.18% ACC@5: 94.15%: 100%|█| 49/49 [00:\r\n",
      "Test Epoch: [9/10] Loss: 1.0985 ACC@1: 61.17% ACC@5: 96.54%: 100%|█| 10/10 [00:0\r\n",
      "Train Epoch: [10/10] Loss: 1.2839 ACC@1: 54.24% ACC@5: 94.12%: 100%|█| 49/49 [00\r\n",
      "Test Epoch: [10/10] Loss: 1.0732 ACC@1: 61.37% ACC@5: 96.77%: 100%|█| 10/10 [00:\r\n"
     ]
    }
   ],
   "source": [
    "!python linear.py --batch_size 1024 --epochs 10"
   ]
  }
 ],
 "metadata": {
  "kernelspec": {
   "display_name": "Python 3",
   "language": "python",
   "name": "python3"
  },
  "language_info": {
   "codemirror_mode": {
    "name": "ipython",
    "version": 3
   },
   "file_extension": ".py",
   "mimetype": "text/x-python",
   "name": "python",
   "nbconvert_exporter": "python",
   "pygments_lexer": "ipython3",
   "version": "3.7.12"
  },
  "papermill": {
   "default_parameters": {},
   "duration": 3061.223614,
   "end_time": "2022-07-21T17:29:25.203592",
   "environment_variables": {},
   "exception": null,
   "input_path": "__notebook__.ipynb",
   "output_path": "__notebook__.ipynb",
   "parameters": {},
   "start_time": "2022-07-21T16:38:23.979978",
   "version": "2.3.4"
  }
 },
 "nbformat": 4,
 "nbformat_minor": 5
}
